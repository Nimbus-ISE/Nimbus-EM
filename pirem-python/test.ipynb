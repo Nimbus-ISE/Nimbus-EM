{
 "cells": [
  {
   "cell_type": "code",
   "execution_count": 2,
   "metadata": {},
   "outputs": [
    {
     "name": "stdout",
     "output_type": "stream",
     "text": [
      "<class 'tuple'>\n"
     ]
    }
   ],
   "source": [
    "def test():\n",
    "    return 'a', 'b', 1, 2\n",
    "\n",
    "print(test())"
   ]
  },
  {
   "cell_type": "code",
   "execution_count": 40,
   "metadata": {},
   "outputs": [
    {
     "data": {
      "text/plain": [
       "{'Points': array([[54.71896683, 35.83201591],\n",
       "        [97.66732821,  4.06563318],\n",
       "        [39.70726083, 11.81767994],\n",
       "        [49.81227702, 84.53045981],\n",
       "        [ 7.68658817, 61.57264823],\n",
       "        [87.50428642, 73.4474997 ],\n",
       "        [89.13397142, 17.67413283],\n",
       "        [86.05522385, 96.45949678],\n",
       "        [ 6.55167548, 46.12616906],\n",
       "        [30.84517646, 17.21150502],\n",
       "        [46.89118748, 33.80001456],\n",
       "        [39.76492288, 48.18288765],\n",
       "        [62.28614444,  0.68493843],\n",
       "        [44.97049757, 76.2699458 ],\n",
       "        [29.05149311, 53.46970647],\n",
       "        [59.56852808, 80.54430983]]),\n",
       " 'RatingsNodes': array([0.03187582, 0.91022749, 0.10638796, 0.64013539, 0.93863349,\n",
       "        0.96377975, 0.68346919, 0.76424738, 0.15785645, 0.35904605,\n",
       "        0.08077735, 0.96713328, 0.48731494, 0.26667526, 0.38983965,\n",
       "        0.31869582]),\n",
       " 'AvCostNodes': array([0, 3, 3, 4, 0, 2, 4, 2, 2, 1, 3, 4, 4, 0, 4, 2], dtype=uint8),\n",
       " 'CategoriesNodes': array([6, 4, 1, 8, 4, 2, 7, 3, 5, 8, 2, 1, 2, 7, 6, 2], dtype=uint8),\n",
       " 'OpenHours': array([array([ 9, 14], dtype=uint8), array([[ 9, 14],\n",
       "                                             [17, 21]], dtype=uint8),\n",
       "        array([ 9, 24], dtype=uint8), array([14, 24], dtype=uint8),\n",
       "        array([ 9, 14], dtype=uint8), array([12, 21], dtype=uint8),\n",
       "        array([14, 24], dtype=uint8), array([ 9, 24], dtype=uint8),\n",
       "        array([ 9, 14], dtype=uint8), array([14, 24], dtype=uint8),\n",
       "        array([[ 9, 14],\n",
       "               [17, 21]], dtype=uint8), array([12, 21], dtype=uint8),\n",
       "        array([12, 21], dtype=uint8), array([12, 21], dtype=uint8),\n",
       "        array([ 9, 24], dtype=uint8), array([12, 21], dtype=uint8)],\n",
       "       dtype=object),\n",
       " 'RatingsEdges': array([0.37469442, 0.14630909, 0.26304936, 0.28460104, 0.85295203,\n",
       "        0.83061272, 0.30689124, 0.02865153, 0.70905649, 0.52226769,\n",
       "        0.22913224, 0.660405  , 0.15477576, 0.6763715 , 0.99724148,\n",
       "        0.93809741, 0.03354321, 0.88856741, 0.97336589, 0.65138605,\n",
       "        0.12632344, 0.11664141, 0.65146892, 0.76845241, 0.33408835,\n",
       "        0.17762719, 0.28944118, 0.8997732 , 0.20510582, 0.06268458,\n",
       "        0.4094191 , 0.00428738, 0.65254197, 0.17062007, 0.66656491,\n",
       "        0.85288259]),\n",
       " 'MinTimeNodes': array([1.  , 0.5 , 1.  , 1.  , 1.  , 0.5 , 1.  , 1.5 , 1.  , 0.25, 1.5 ,\n",
       "        1.  , 0.5 , 0.5 , 0.5 , 1.5 ]),\n",
       " 'MinTimeEdges': array([[0.        , 0.        , 0.1009676 , 0.        , 0.        ,\n",
       "         0.17789614, 0.13872719, 0.        , 0.        , 0.        ,\n",
       "         0.02883258, 0.06914722, 0.12817777, 0.        , 0.        ,\n",
       "         0.16034324],\n",
       "        [0.        , 0.        , 0.        , 0.        , 0.        ,\n",
       "         0.25      , 0.05726667, 0.        , 0.        , 0.        ,\n",
       "         0.        , 0.        , 0.12671558, 0.        , 0.        ,\n",
       "         0.        ],\n",
       "        [0.1009676 , 0.        , 0.        , 0.        , 0.        ,\n",
       "         0.        , 0.        , 0.        , 0.        , 0.03698712,\n",
       "         0.0824504 , 0.        , 0.08975136, 0.        , 0.        ,\n",
       "         0.        ],\n",
       "        [0.        , 0.        , 0.        , 0.        , 0.17104183,\n",
       "         0.        , 0.        , 0.13603257, 0.        , 0.        ,\n",
       "         0.        , 0.        , 0.        , 0.03413649, 0.        ,\n",
       "         0.03757422],\n",
       "        [0.        , 0.        , 0.        , 0.17104183, 0.        ,\n",
       "         0.        , 0.        , 0.        , 0.05521826, 0.        ,\n",
       "         0.        , 0.        , 0.        , 0.14287968, 0.08146442,\n",
       "         0.        ],\n",
       "        [0.17789614, 0.25      , 0.        , 0.        , 0.        ,\n",
       "         0.        , 0.19892818, 0.08220491, 0.        , 0.        ,\n",
       "         0.        , 0.        , 0.        , 0.        , 0.        ,\n",
       "         0.10276018],\n",
       "        [0.13872719, 0.05726667, 0.        , 0.        , 0.        ,\n",
       "         0.19892818, 0.        , 0.        , 0.        , 0.        ,\n",
       "         0.        , 0.        , 0.11327239, 0.        , 0.        ,\n",
       "         0.        ],\n",
       "        [0.        , 0.        , 0.        , 0.13603257, 0.        ,\n",
       "         0.08220491, 0.        , 0.        , 0.        , 0.        ,\n",
       "         0.        , 0.        , 0.        , 0.        , 0.        ,\n",
       "         0.11016637],\n",
       "        [0.        , 0.        , 0.        , 0.        , 0.05521826,\n",
       "         0.        , 0.        , 0.        , 0.        , 0.13464158,\n",
       "         0.        , 0.        , 0.        , 0.        , 0.08438083,\n",
       "         0.        ],\n",
       "        [0.        , 0.        , 0.03698712, 0.        , 0.        ,\n",
       "         0.        , 0.        , 0.        , 0.13464158, 0.        ,\n",
       "         0.08228229, 0.        , 0.        , 0.        , 0.12942589,\n",
       "         0.        ],\n",
       "        [0.02883258, 0.        , 0.0824504 , 0.        , 0.        ,\n",
       "         0.        , 0.        , 0.        , 0.        , 0.08228229,\n",
       "         0.        , 0.05722684, 0.        , 0.        , 0.09467283,\n",
       "         0.        ],\n",
       "        [0.06914722, 0.        , 0.        , 0.        , 0.        ,\n",
       "         0.        , 0.        , 0.        , 0.        , 0.        ,\n",
       "         0.05722684, 0.        , 0.        , 0.10184134, 0.04259305,\n",
       "         0.1352638 ],\n",
       "        [0.12817777, 0.12671558, 0.08975136, 0.        , 0.        ,\n",
       "         0.        , 0.11327239, 0.        , 0.        , 0.        ,\n",
       "         0.        , 0.        , 0.        , 0.        , 0.        ,\n",
       "         0.        ],\n",
       "        [0.        , 0.        , 0.        , 0.03413649, 0.14287968,\n",
       "         0.        , 0.        , 0.        , 0.        , 0.        ,\n",
       "         0.        , 0.10184134, 0.        , 0.        , 0.0991399 ,\n",
       "         0.05423007],\n",
       "        [0.        , 0.        , 0.        , 0.        , 0.08146442,\n",
       "         0.        , 0.        , 0.        , 0.08438083, 0.12942589,\n",
       "         0.09467283, 0.04259305, 0.        , 0.0991399 , 0.        ,\n",
       "         0.        ],\n",
       "        [0.16034324, 0.        , 0.        , 0.03757422, 0.        ,\n",
       "         0.10276018, 0.        , 0.11016637, 0.        , 0.        ,\n",
       "         0.        , 0.1352638 , 0.        , 0.05423007, 0.        ,\n",
       "         0.        ]]),\n",
       " 'N': 16}"
      ]
     },
     "execution_count": 40,
     "metadata": {},
     "output_type": "execute_result"
    }
   ],
   "source": [
    "\n",
    "from scipy.io import loadmat\n",
    "import pandas as pd\n",
    "\n",
    "mat = loadmat('./datasets/syntnetic2/sd_16_1.mat', simplify_cells=True)\n",
    "G = mat['G']\n",
    "G\n"
   ]
  },
  {
   "cell_type": "code",
   "execution_count": 1,
   "metadata": {},
   "outputs": [],
   "source": [
    "\n",
    "from scipy.io import loadmat\n",
    "import pandas as pd\n",
    "\n",
    "mat = loadmat('../matlab/datasets/syntnetic2/params_data4C1.mat')\n",
    "# mat"
   ]
  },
  {
   "cell_type": "code",
   "execution_count": 12,
   "metadata": {},
   "outputs": [
    {
     "name": "stdout",
     "output_type": "stream",
     "text": [
      "['__class__', '__class_getitem__', '__contains__', '__delattr__', '__delitem__', '__dir__', '__doc__', '__eq__', '__format__', '__ge__', '__getattribute__', '__getitem__', '__gt__', '__hash__', '__init__', '__init_subclass__', '__ior__', '__iter__', '__le__', '__len__', '__lt__', '__ne__', '__new__', '__or__', '__reduce__', '__reduce_ex__', '__repr__', '__reversed__', '__ror__', '__setattr__', '__setitem__', '__sizeof__', '__str__', '__subclasshook__', 'clear', 'copy', 'fromkeys', 'get', 'items', 'keys', 'pop', 'popitem', 'setdefault', 'update', 'values']\n"
     ]
    }
   ],
   "source": [
    "print(dir(mat))"
   ]
  },
  {
   "cell_type": "code",
   "execution_count": 7,
   "metadata": {},
   "outputs": [
    {
     "data": {
      "text/plain": [
       "True"
      ]
     },
     "execution_count": 7,
     "metadata": {},
     "output_type": "execute_result"
    }
   ],
   "source": [
    "import numpy as np\n",
    "\n",
    "openHours = [[9, 14], [17, 21]]\n",
    "visitTimeStart = 9\n",
    "visitTimeEnd = 13\n",
    "\n",
    "if len(openHours) > 1:\n",
    "    inTimeWindow = []\n",
    "    for time_window in openHours:\n",
    "        inTimeWindow.append(visitTimeStart >= time_window[0]) and (visitTimeEnd <= time_window[1])\n",
    "    return np.any(inTimeWindow)\n",
    "\n",
    "return (visitTimeStart >= openHours[0]) and (visitTimeEnd <= openHours[1])\n",
    "\n"
   ]
  }
 ],
 "metadata": {
  "kernelspec": {
   "display_name": "nimbus",
   "language": "python",
   "name": "python3"
  },
  "language_info": {
   "codemirror_mode": {
    "name": "ipython",
    "version": 3
   },
   "file_extension": ".py",
   "mimetype": "text/x-python",
   "name": "python",
   "nbconvert_exporter": "python",
   "pygments_lexer": "ipython3",
   "version": "3.9.16"
  },
  "orig_nbformat": 4
 },
 "nbformat": 4,
 "nbformat_minor": 2
}
